{
 "cells": [
  {
   "cell_type": "code",
   "execution_count": 8,
   "id": "0684fb08-2a39-4422-939f-e49f7aa31f44",
   "metadata": {},
   "outputs": [
    {
     "name": "stdout",
     "output_type": "stream",
     "text": [
      "Hello, I am your translator. Lets start\n",
      "Adjusting for ambient noise... Please wait.\n",
      "Listening for your command...\n",
      "Recognizing...\n",
      "You said: السلام علیکم میرا نام شرمین\n"
     ]
    }
   ],
   "source": [
    "import speech_recognition as sr\n",
    "\n",
    "# Initialize recognizer for thepretrained func\n",
    "recognizer = sr.Recognizer()\n",
    "\n",
    "# Set up the microphone\n",
    "with sr.Microphone() as source:\n",
    "    print(\"Hello, I am your translator. Lets start\")\n",
    "    print(\"Adjusting for ambient noise... Please wait.\")\n",
    "     # built in function to avoid ambient noices\n",
    "    recognizer.adjust_for_ambient_noise(source) \n",
    "    print(\"Listening for your command...\")\n",
    "    # Listen for the first phrase\n",
    "    audio = recognizer.listen(source)  \n",
    "\n",
    "# we will use  Google Web Speech API\n",
    "try:\n",
    "    print(\"Recognizing...\")\n",
    "    text = recognizer.recognize_google(audio, language=\"ur\")\n",
    "    print(\"You said: \" + text)\n",
    "\n",
    "except sr.UnknownValueError:\n",
    "    print(\"Sorry, I could not understand the audio.\")\n",
    "\n",
    "except sr.RequestError as e:\n",
    "    print(f\"Could not request results from Google Speech Recognition service; {e}\")\n",
    "    \n"
   ]
  },
  {
   "cell_type": "code",
   "execution_count": null,
   "id": "1dba74d7-1dd4-4069-ab35-0812c14be7bf",
   "metadata": {},
   "outputs": [],
   "source": [
    "\n",
    "pip install SpeechRecognition"
   ]
  },
  {
   "cell_type": "code",
   "execution_count": null,
   "id": "9fc0f775-24e5-4b5a-a64d-3f13fd69348a",
   "metadata": {},
   "outputs": [],
   "source": []
  }
 ],
 "metadata": {
  "kernelspec": {
   "display_name": "Python 3 (ipykernel)",
   "language": "python",
   "name": "python3"
  },
  "language_info": {
   "codemirror_mode": {
    "name": "ipython",
    "version": 3
   },
   "file_extension": ".py",
   "mimetype": "text/x-python",
   "name": "python",
   "nbconvert_exporter": "python",
   "pygments_lexer": "ipython3",
   "version": "3.12.7"
  }
 },
 "nbformat": 4,
 "nbformat_minor": 5
}
