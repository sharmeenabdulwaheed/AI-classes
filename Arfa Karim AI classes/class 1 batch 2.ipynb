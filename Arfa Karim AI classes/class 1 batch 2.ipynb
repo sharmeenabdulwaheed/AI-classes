{
 "cells": [
  {
   "cell_type": "code",
   "execution_count": 31,
   "id": "feaf3270-e3a4-4398-98d9-2c7ee81e57e1",
   "metadata": {},
   "outputs": [
    {
     "name": "stdout",
     "output_type": "stream",
     "text": [
      "65\n"
     ]
    }
   ],
   "source": [
    "print(65)"
   ]
  },
  {
   "cell_type": "code",
   "execution_count": 33,
   "id": "516c6f2b-0fb7-402a-b509-13d31ba2f5b2",
   "metadata": {},
   "outputs": [
    {
     "name": "stdout",
     "output_type": "stream",
     "text": [
      "my name is ali\n"
     ]
    }
   ],
   "source": [
    "print(\"my name is ali\")"
   ]
  },
  {
   "cell_type": "code",
   "execution_count": 35,
   "id": "54ad46f3-2e37-47e1-b1e7-f6e5c08ae421",
   "metadata": {},
   "outputs": [
    {
     "name": "stdout",
     "output_type": "stream",
     "text": [
      "ali  is  18  years old\n"
     ]
    }
   ],
   "source": [
    "name= \"ali\"\n",
    "age=18\n",
    "print(name, \" is \", age, \" years old\")"
   ]
  },
  {
   "cell_type": "code",
   "execution_count": 1,
   "id": "f08f358e-a68a-4cd9-a698-af5bcec8155e",
   "metadata": {},
   "outputs": [
    {
     "name": "stdin",
     "output_type": "stream",
     "text": [
      "ENter your name  sharmeen\n",
      "Enter your age  19\n"
     ]
    }
   ],
   "source": [
    "name =input(\"ENter your name \")\n",
    "age= input(\"Enter your age \")"
   ]
  },
  {
   "cell_type": "code",
   "execution_count": 7,
   "id": "2c41d476-fdc0-4456-88e2-e7277235c999",
   "metadata": {},
   "outputs": [
    {
     "name": "stdin",
     "output_type": "stream",
     "text": [
      "ENter number 1 5\n",
      "Enter number 2 5\n"
     ]
    },
    {
     "name": "stdout",
     "output_type": "stream",
     "text": [
      "The sum is:  10\n"
     ]
    }
   ],
   "source": [
    "num1= int(input(\"ENter number 1\"))\n",
    "#int(num1)\n",
    "num2=int(input(\"Enter number 2\"))\n",
    "#int (num2)\n",
    "sum= num1+num2\n",
    "print(\"The sum is: \", str(sum))"
   ]
  },
  {
   "cell_type": "code",
   "execution_count": 9,
   "id": "d275b5cd-beb2-42a6-957f-1ed9c34b21e1",
   "metadata": {},
   "outputs": [
    {
     "name": "stdin",
     "output_type": "stream",
     "text": [
      "Enter your marks 56\n"
     ]
    },
    {
     "name": "stdout",
     "output_type": "stream",
     "text": [
      "You are pass\n"
     ]
    }
   ],
   "source": [
    "marks= int(input(\"Enter your marks\"))\n",
    "if(marks>=40):\n",
    "    print(\"You are pass\")\n",
    "else:\n",
    "    print(\"you are fail\")"
   ]
  },
  {
   "cell_type": "code",
   "execution_count": 49,
   "id": "058ed4cd-65a4-4063-bbd5-3fe7451e2711",
   "metadata": {},
   "outputs": [
    {
     "name": "stdin",
     "output_type": "stream",
     "text": [
      "Enter your marks out of 100 -87\n"
     ]
    },
    {
     "name": "stdout",
     "output_type": "stream",
     "text": [
      "You are fail\n"
     ]
    }
   ],
   "source": [
    "marks=int(input(\"Enter your marks out of 100\"))\n",
    "if(marks>90 ):\n",
    "    print(\"Your grade is A+\")\n",
    "elif(marks>80 and marks<90):\n",
    "    print (\"Your grade is A\")\n",
    "elif(marks>70 and marks<80):\n",
    "    print (\"Your grade is B\")\n",
    "elif(marks>60 and marks<70):\n",
    "    print (\"Your grade is C\")\n",
    "elif(marks>50 and marks<60):\n",
    "    print (\"Your grade is D\")\n",
    "else:\n",
    "    print(\"You are fail\")\n"
   ]
  },
  {
   "cell_type": "code",
   "execution_count": 11,
   "id": "16bde553-6cde-408f-84fe-9ffa2796c77b",
   "metadata": {},
   "outputs": [
    {
     "name": "stdin",
     "output_type": "stream",
     "text": [
      "Enter num 1:  5\n",
      "Enter num 2:  65\n",
      "Enter num 3:  666\n"
     ]
    },
    {
     "name": "stdout",
     "output_type": "stream",
     "text": [
      "C is the largest of 3\n"
     ]
    }
   ],
   "source": [
    "A = int(input(\"Enter num 1: \"))\n",
    "B = int(input(\"Enter num 2: \"))\n",
    "C = int(input(\"Enter num 3: \"))\n",
    "\n",
    "if A > B and A > C:\n",
    "    print(\"A is the largest of 3\")\n",
    "elif B > A and B > C:\n",
    "    print(\"B is the largest of 3\")\n",
    "else:\n",
    "    print(\"C is the largest of 3\")\n"
   ]
  },
  {
   "cell_type": "code",
   "execution_count": 51,
   "id": "3cd0d8d2-294e-4d74-ad2a-be1a7400e7f1",
   "metadata": {},
   "outputs": [
    {
     "name": "stdin",
     "output_type": "stream",
     "text": [
      "Enter any number 65\n"
     ]
    },
    {
     "name": "stdout",
     "output_type": "stream",
     "text": [
      "odd number\n"
     ]
    }
   ],
   "source": [
    "num=int(input(\"Enter any number\"))\n",
    "if(num % 2==0):\n",
    "    print(\"Even numbber\")\n",
    "else:\n",
    "    print(\"odd number\")"
   ]
  },
  {
   "cell_type": "code",
   "execution_count": null,
   "id": "64a6ee02-5e01-480a-bc6f-3a20481dc54a",
   "metadata": {},
   "outputs": [],
   "source": []
  }
 ],
 "metadata": {
  "kernelspec": {
   "display_name": "Python 3 (ipykernel)",
   "language": "python",
   "name": "python3"
  },
  "language_info": {
   "codemirror_mode": {
    "name": "ipython",
    "version": 3
   },
   "file_extension": ".py",
   "mimetype": "text/x-python",
   "name": "python",
   "nbconvert_exporter": "python",
   "pygments_lexer": "ipython3",
   "version": "3.12.4"
  }
 },
 "nbformat": 4,
 "nbformat_minor": 5
}
