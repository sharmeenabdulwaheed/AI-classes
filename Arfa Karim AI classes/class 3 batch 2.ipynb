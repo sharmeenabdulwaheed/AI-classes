{
 "cells": [
  {
   "cell_type": "code",
   "execution_count": 1,
   "id": "9c8f147d-4311-42ca-925e-bde4c0445b78",
   "metadata": {},
   "outputs": [],
   "source": [
    "list1=[1, \"ali\", 6.7] #list can have different data type"
   ]
  },
  {
   "cell_type": "code",
   "execution_count": 3,
   "id": "e3088f07-b4de-4a76-b83f-bd55da598484",
   "metadata": {},
   "outputs": [
    {
     "name": "stdout",
     "output_type": "stream",
     "text": [
      "0\n",
      "1\n",
      "2\n",
      "3\n",
      "4\n",
      "5\n",
      "6\n",
      "7\n",
      "8\n"
     ]
    }
   ],
   "source": [
    "for i in range(9):\n",
    "    print(i)"
   ]
  },
  {
   "cell_type": "code",
   "execution_count": 5,
   "id": "505611aa-af23-411d-b641-50847589fdc7",
   "metadata": {},
   "outputs": [
    {
     "name": "stdout",
     "output_type": "stream",
     "text": [
      "1\n",
      "ali\n",
      "6.7\n"
     ]
    }
   ],
   "source": [
    "for i in list1:\n",
    "    print(i)"
   ]
  },
  {
   "cell_type": "code",
   "execution_count": 7,
   "id": "381a41fe-f63e-4913-b2a3-62239eaab436",
   "metadata": {},
   "outputs": [
    {
     "name": "stdout",
     "output_type": "stream",
     "text": [
      "1\n",
      "<class 'int'>\n",
      "ali\n",
      "<class 'str'>\n",
      "6.7\n",
      "<class 'float'>\n"
     ]
    }
   ],
   "source": [
    "for i in list1:\n",
    "    print(i)\n",
    "    print(type(i))"
   ]
  },
  {
   "cell_type": "code",
   "execution_count": null,
   "id": "54693050-8b9b-4f70-9425-74c61feb5524",
   "metadata": {},
   "outputs": [],
   "source": [
    "!pip install numpy"
   ]
  },
  {
   "cell_type": "code",
   "execution_count": 9,
   "id": "9b80a919-e5d4-4659-8e0d-1af2ee77eee0",
   "metadata": {},
   "outputs": [],
   "source": [
    "import numpy"
   ]
  },
  {
   "cell_type": "code",
   "execution_count": 13,
   "id": "0bb93e67-f9ac-4f8b-ae8d-1073e684c40e",
   "metadata": {},
   "outputs": [],
   "source": [
    "arr=numpy.array(list1)"
   ]
  },
  {
   "cell_type": "code",
   "execution_count": 15,
   "id": "7ed0d4ab-65be-4067-924b-11a6578d2165",
   "metadata": {},
   "outputs": [
    {
     "data": {
      "text/plain": [
       "array(['1', 'ali', '6.7'], dtype='<U32')"
      ]
     },
     "execution_count": 15,
     "metadata": {},
     "output_type": "execute_result"
    }
   ],
   "source": [
    "arr\n"
   ]
  },
  {
   "cell_type": "code",
   "execution_count": 18,
   "id": "0ac38a4d-8f59-409b-ae7e-cd0cecbfd98d",
   "metadata": {},
   "outputs": [
    {
     "name": "stdout",
     "output_type": "stream",
     "text": [
      "1\n",
      "<class 'numpy.str_'>\n",
      "ali\n",
      "<class 'numpy.str_'>\n",
      "6.7\n",
      "<class 'numpy.str_'>\n"
     ]
    }
   ],
   "source": [
    "for i in arr:\n",
    "    print(i)\n",
    "    print(type(i))"
   ]
  },
  {
   "cell_type": "code",
   "execution_count": 20,
   "id": "5bd13551-ca02-44f5-941a-d99ed2339fe5",
   "metadata": {},
   "outputs": [
    {
     "data": {
      "text/plain": [
       "161"
      ]
     },
     "execution_count": 20,
     "metadata": {},
     "output_type": "execute_result"
    }
   ],
   "source": [
    "list1=[1,2,3,4,6,78,67]\n",
    "sum(list1)"
   ]
  },
  {
   "cell_type": "code",
   "execution_count": 22,
   "id": "41ff0aab-d06d-409d-b8fa-ee8e51ab4ab9",
   "metadata": {},
   "outputs": [
    {
     "data": {
      "text/plain": [
       "78"
      ]
     },
     "execution_count": 22,
     "metadata": {},
     "output_type": "execute_result"
    }
   ],
   "source": [
    "max(list1)"
   ]
  },
  {
   "cell_type": "code",
   "execution_count": 24,
   "id": "81f2938b-e373-4be2-bd66-dd753ebfedd2",
   "metadata": {},
   "outputs": [
    {
     "data": {
      "text/plain": [
       "1"
      ]
     },
     "execution_count": 24,
     "metadata": {},
     "output_type": "execute_result"
    }
   ],
   "source": [
    "min(list1)"
   ]
  },
  {
   "cell_type": "code",
   "execution_count": 26,
   "id": "d04d5ced-ea0f-45cd-8616-2863ae965bf9",
   "metadata": {},
   "outputs": [],
   "source": [
    "list1.append(78)"
   ]
  },
  {
   "cell_type": "code",
   "execution_count": 28,
   "id": "169e42ee-0886-4d0d-8f65-8e5b385cddc7",
   "metadata": {},
   "outputs": [
    {
     "data": {
      "text/plain": [
       "[1, 2, 3, 4, 6, 78, 67, 78]"
      ]
     },
     "execution_count": 28,
     "metadata": {},
     "output_type": "execute_result"
    }
   ],
   "source": [
    "list1"
   ]
  },
  {
   "cell_type": "code",
   "execution_count": 30,
   "id": "6cec1bf9-bce3-4d11-9431-6f7824f3178d",
   "metadata": {},
   "outputs": [],
   "source": [
    "list1.extend([14,56,67])"
   ]
  },
  {
   "cell_type": "code",
   "execution_count": 32,
   "id": "b01eaa53-8ea9-4cfe-b963-50e7f5cbc0d2",
   "metadata": {},
   "outputs": [
    {
     "data": {
      "text/plain": [
       "[1, 2, 3, 4, 6, 78, 67, 78, 14, 56, 67]"
      ]
     },
     "execution_count": 32,
     "metadata": {},
     "output_type": "execute_result"
    }
   ],
   "source": [
    "list1"
   ]
  },
  {
   "cell_type": "code",
   "execution_count": 50,
   "id": "0a70c8bc-d9f4-49e3-901b-efb31a7c9a59",
   "metadata": {},
   "outputs": [
    {
     "ename": "TypeError",
     "evalue": "'ascending' is an invalid keyword argument for sort()",
     "output_type": "error",
     "traceback": [
      "\u001b[1;31m---------------------------------------------------------------------------\u001b[0m",
      "\u001b[1;31mTypeError\u001b[0m                                 Traceback (most recent call last)",
      "Cell \u001b[1;32mIn[50], line 1\u001b[0m\n\u001b[1;32m----> 1\u001b[0m list1\u001b[38;5;241m.\u001b[39msort(ascending\u001b[38;5;241m=\u001b[39m\u001b[38;5;28;01mTrue\u001b[39;00m)\n",
      "\u001b[1;31mTypeError\u001b[0m: 'ascending' is an invalid keyword argument for sort()"
     ]
    }
   ],
   "source": [
    "list1.sort(reverse=True)"
   ]
  },
  {
   "cell_type": "code",
   "execution_count": 36,
   "id": "4bf2cd12-be36-4ffd-b8a0-e5b538bfd4e5",
   "metadata": {},
   "outputs": [
    {
     "data": {
      "text/plain": [
       "[1, 2, 3, 4, 6, 14, 56, 67, 67, 78, 78]"
      ]
     },
     "execution_count": 36,
     "metadata": {},
     "output_type": "execute_result"
    }
   ],
   "source": [
    "list1"
   ]
  },
  {
   "cell_type": "code",
   "execution_count": 40,
   "id": "1d845dc0-eef6-412e-989b-92704461213f",
   "metadata": {},
   "outputs": [],
   "source": [
    "list1.remove(14)"
   ]
  },
  {
   "cell_type": "code",
   "execution_count": 42,
   "id": "105e4d11-6295-49b3-b864-37e307b8744c",
   "metadata": {},
   "outputs": [
    {
     "data": {
      "text/plain": [
       "[1, 2, 3, 4, 6, 56, 67, 67, 78, 78]"
      ]
     },
     "execution_count": 42,
     "metadata": {},
     "output_type": "execute_result"
    }
   ],
   "source": [
    "list1"
   ]
  },
  {
   "cell_type": "code",
   "execution_count": 44,
   "id": "f93ab694-58ed-47eb-90e3-993940be2038",
   "metadata": {},
   "outputs": [
    {
     "data": {
      "text/plain": [
       "5"
      ]
     },
     "execution_count": 44,
     "metadata": {},
     "output_type": "execute_result"
    }
   ],
   "source": [
    "list1.index(56)"
   ]
  },
  {
   "cell_type": "code",
   "execution_count": 46,
   "id": "092e978f-af1c-4405-bd08-f39c664f8a65",
   "metadata": {},
   "outputs": [
    {
     "data": {
      "text/plain": [
       "78"
      ]
     },
     "execution_count": 46,
     "metadata": {},
     "output_type": "execute_result"
    }
   ],
   "source": [
    "list1[8]"
   ]
  },
  {
   "cell_type": "code",
   "execution_count": 58,
   "id": "abc94ade-3189-4e88-9ce1-d722c5793488",
   "metadata": {},
   "outputs": [
    {
     "data": {
      "text/plain": [
       "[78, 78, 67, 67, 56, 6, 4, 3, 2, 1]"
      ]
     },
     "execution_count": 58,
     "metadata": {},
     "output_type": "execute_result"
    }
   ],
   "source": [
    "list1.sort(reverse=True)\n",
    "list1"
   ]
  },
  {
   "cell_type": "code",
   "execution_count": 60,
   "id": "00d6c4b1-d727-4cd6-8e17-bfa2dfaaa223",
   "metadata": {},
   "outputs": [
    {
     "data": {
      "text/plain": [
       "[78, 67, 67, 56]"
      ]
     },
     "execution_count": 60,
     "metadata": {},
     "output_type": "execute_result"
    }
   ],
   "source": [
    "list1[1:5]\n",
    "#1st value inclusive\n",
    "#2nd argument exclusiv"
   ]
  },
  {
   "cell_type": "code",
   "execution_count": 62,
   "id": "18854094-d8fe-4a29-876b-d46185c2c2f7",
   "metadata": {},
   "outputs": [],
   "source": [
    "import numpy\n",
    "arr1=numpy.array([2,4,57,8])"
   ]
  },
  {
   "cell_type": "code",
   "execution_count": 64,
   "id": "dcaab9fc-213b-472d-9680-5903e5431bac",
   "metadata": {},
   "outputs": [
    {
     "name": "stdout",
     "output_type": "stream",
     "text": [
      "[1, 2, 3, 4, 8, 9, 0, 5]\n"
     ]
    }
   ],
   "source": [
    "l1=[1,2,3,4]\n",
    "l2=[8,9,0,5]\n",
    "\n",
    "print(l1+l2)"
   ]
  },
  {
   "cell_type": "code",
   "execution_count": 70,
   "id": "32834fb8-80a4-423b-a581-be007a6d715b",
   "metadata": {},
   "outputs": [
    {
     "name": "stdout",
     "output_type": "stream",
     "text": [
      "[ 7 10 64 16]\n"
     ]
    }
   ],
   "source": [
    "arr1=numpy.array([2,4,57,8])\n",
    "arr2=numpy.array([5,6,7,8])\n",
    "\n",
    "print(arr1+arr2)"
   ]
  },
  {
   "cell_type": "code",
   "execution_count": 72,
   "id": "cdccfc86-cbdf-4de3-979a-e6d18ac862e5",
   "metadata": {},
   "outputs": [],
   "source": [
    "import numpy as np"
   ]
  },
  {
   "cell_type": "code",
   "execution_count": 74,
   "id": "829b4ee8-d39d-4dbc-8e3a-4adc507c961a",
   "metadata": {},
   "outputs": [
    {
     "data": {
      "text/plain": [
       "71"
      ]
     },
     "execution_count": 74,
     "metadata": {},
     "output_type": "execute_result"
    }
   ],
   "source": [
    "np.sum(arr1)"
   ]
  },
  {
   "cell_type": "code",
   "execution_count": 76,
   "id": "9a6dd9cf-2d0a-4e07-a06b-802dfc3809a8",
   "metadata": {},
   "outputs": [],
   "source": [
    "arr1=numpy.array([2,4,57,8])"
   ]
  },
  {
   "cell_type": "code",
   "execution_count": 78,
   "id": "46e70f15-9e22-4be5-a5dc-81f97f73ccd9",
   "metadata": {},
   "outputs": [
    {
     "data": {
      "text/plain": [
       "(4,)"
      ]
     },
     "execution_count": 78,
     "metadata": {},
     "output_type": "execute_result"
    }
   ],
   "source": [
    "arr1.shape"
   ]
  },
  {
   "cell_type": "code",
   "execution_count": 80,
   "id": "470ea528-7fa4-47ec-8650-6084bddaf4c9",
   "metadata": {},
   "outputs": [
    {
     "data": {
      "text/plain": [
       "1"
      ]
     },
     "execution_count": 80,
     "metadata": {},
     "output_type": "execute_result"
    }
   ],
   "source": [
    "arr1.ndim"
   ]
  },
  {
   "cell_type": "code",
   "execution_count": 82,
   "id": "cf562ba4-3332-466a-91e3-10714aafb59c",
   "metadata": {},
   "outputs": [],
   "source": [
    "array2d= np.array([[12,34,6],\n",
    "                  [56,34,76]])"
   ]
  },
  {
   "cell_type": "code",
   "execution_count": 84,
   "id": "942482e7-5685-4b76-9d58-0611e5102eac",
   "metadata": {},
   "outputs": [
    {
     "data": {
      "text/plain": [
       "(2, 3)"
      ]
     },
     "execution_count": 84,
     "metadata": {},
     "output_type": "execute_result"
    }
   ],
   "source": [
    "array2d.shape"
   ]
  },
  {
   "cell_type": "code",
   "execution_count": 86,
   "id": "79674633-bf20-43fa-b957-ba9e29bc21f7",
   "metadata": {},
   "outputs": [
    {
     "data": {
      "text/plain": [
       "2"
      ]
     },
     "execution_count": 86,
     "metadata": {},
     "output_type": "execute_result"
    }
   ],
   "source": [
    "array2d.ndim"
   ]
  },
  {
   "cell_type": "code",
   "execution_count": 92,
   "id": "a63f1c45-bd9d-4838-8731-d423180c1f5f",
   "metadata": {},
   "outputs": [
    {
     "data": {
      "text/plain": [
       "7"
      ]
     },
     "execution_count": 92,
     "metadata": {},
     "output_type": "execute_result"
    }
   ],
   "source": [
    "list1=[2,3,4,5,6,8,9,72]\n",
    "list1.index(72)"
   ]
  },
  {
   "cell_type": "code",
   "execution_count": 96,
   "id": "c09f250d-39cd-476a-9c98-880c97b9485f",
   "metadata": {},
   "outputs": [
    {
     "data": {
      "text/plain": [
       "72"
      ]
     },
     "execution_count": 96,
     "metadata": {},
     "output_type": "execute_result"
    }
   ],
   "source": [
    "list1[7]"
   ]
  },
  {
   "cell_type": "code",
   "execution_count": 98,
   "id": "0b3a4f94-0613-405d-9247-240e1f9b6a32",
   "metadata": {},
   "outputs": [
    {
     "data": {
      "text/plain": [
       "[2, 3, 4, 5, 6, 8, 9]"
      ]
     },
     "execution_count": 98,
     "metadata": {},
     "output_type": "execute_result"
    }
   ],
   "source": [
    "list1[0:7]"
   ]
  },
  {
   "cell_type": "code",
   "execution_count": 100,
   "id": "4b8ec4a8-48e2-4a27-a6bc-08280d57078c",
   "metadata": {},
   "outputs": [
    {
     "data": {
      "text/plain": [
       "array([[12, 34,  6],\n",
       "       [56, 34, 76]])"
      ]
     },
     "execution_count": 100,
     "metadata": {},
     "output_type": "execute_result"
    }
   ],
   "source": [
    "array2d"
   ]
  },
  {
   "cell_type": "code",
   "execution_count": 102,
   "id": "da3e710a-ead7-404c-a3b0-c9ccb4cb3c17",
   "metadata": {},
   "outputs": [
    {
     "data": {
      "text/plain": [
       "218"
      ]
     },
     "execution_count": 102,
     "metadata": {},
     "output_type": "execute_result"
    }
   ],
   "source": [
    "np.sum(array2d)"
   ]
  },
  {
   "cell_type": "code",
   "execution_count": 104,
   "id": "46c99cc4-d543-48d3-a14a-2e89e0303ad1",
   "metadata": {},
   "outputs": [
    {
     "data": {
      "text/plain": [
       "36.333333333333336"
      ]
     },
     "execution_count": 104,
     "metadata": {},
     "output_type": "execute_result"
    }
   ],
   "source": [
    "np.mean(array2d)"
   ]
  },
  {
   "cell_type": "code",
   "execution_count": 106,
   "id": "1c34ae70-d101-4cda-b692-41ba2f0166e0",
   "metadata": {},
   "outputs": [
    {
     "data": {
      "text/plain": [
       "34.0"
      ]
     },
     "execution_count": 106,
     "metadata": {},
     "output_type": "execute_result"
    }
   ],
   "source": [
    "np.median(array2d)"
   ]
  },
  {
   "cell_type": "code",
   "execution_count": 110,
   "id": "302c4720-6d3e-4c03-8843-911984af8a7c",
   "metadata": {},
   "outputs": [
    {
     "data": {
      "text/plain": [
       "24.094720491334932"
      ]
     },
     "execution_count": 110,
     "metadata": {},
     "output_type": "execute_result"
    }
   ],
   "source": [
    "np.std(array2d)"
   ]
  },
  {
   "cell_type": "code",
   "execution_count": null,
   "id": "d315e12d-5c2f-4706-b51b-df43738eb226",
   "metadata": {},
   "outputs": [],
   "source": [
    "!pip install pandas\n",
    "import pandas"
   ]
  },
  {
   "cell_type": "code",
   "execution_count": 114,
   "id": "0dcfcd2b-f2a5-4ecf-849d-3968539f8496",
   "metadata": {},
   "outputs": [],
   "source": [
    "import pandas as pd"
   ]
  },
  {
   "cell_type": "code",
   "execution_count": 118,
   "id": "ce9d01fe-7564-4719-b3c6-6b83ddb4fe69",
   "metadata": {},
   "outputs": [],
   "source": [
    "data=pd.read_excel(\"D:\\\\test.xlsx\")"
   ]
  },
  {
   "cell_type": "code",
   "execution_count": 120,
   "id": "a7e7562f-de6c-4d85-a0f9-86e524a5ebe8",
   "metadata": {},
   "outputs": [
    {
     "data": {
      "text/html": [
       "<div>\n",
       "<style scoped>\n",
       "    .dataframe tbody tr th:only-of-type {\n",
       "        vertical-align: middle;\n",
       "    }\n",
       "\n",
       "    .dataframe tbody tr th {\n",
       "        vertical-align: top;\n",
       "    }\n",
       "\n",
       "    .dataframe thead th {\n",
       "        text-align: right;\n",
       "    }\n",
       "</style>\n",
       "<table border=\"1\" class=\"dataframe\">\n",
       "  <thead>\n",
       "    <tr style=\"text-align: right;\">\n",
       "      <th></th>\n",
       "      <th>name</th>\n",
       "      <th>marks</th>\n",
       "      <th>age</th>\n",
       "    </tr>\n",
       "  </thead>\n",
       "  <tbody>\n",
       "    <tr>\n",
       "      <th>0</th>\n",
       "      <td>Ali</td>\n",
       "      <td>45.0</td>\n",
       "      <td>23.0</td>\n",
       "    </tr>\n",
       "    <tr>\n",
       "      <th>1</th>\n",
       "      <td>Ahmed</td>\n",
       "      <td>100.0</td>\n",
       "      <td>12.0</td>\n",
       "    </tr>\n",
       "    <tr>\n",
       "      <th>2</th>\n",
       "      <td>Rameen</td>\n",
       "      <td>34.0</td>\n",
       "      <td>34.0</td>\n",
       "    </tr>\n",
       "    <tr>\n",
       "      <th>3</th>\n",
       "      <td>Ayesha</td>\n",
       "      <td>23.0</td>\n",
       "      <td>0.0</td>\n",
       "    </tr>\n",
       "    <tr>\n",
       "      <th>4</th>\n",
       "      <td>Khadija</td>\n",
       "      <td>NaN</td>\n",
       "      <td>42.0</td>\n",
       "    </tr>\n",
       "    <tr>\n",
       "      <th>5</th>\n",
       "      <td>saleem</td>\n",
       "      <td>78.0</td>\n",
       "      <td>NaN</td>\n",
       "    </tr>\n",
       "    <tr>\n",
       "      <th>6</th>\n",
       "      <td>rehan</td>\n",
       "      <td>98.0</td>\n",
       "      <td>12.0</td>\n",
       "    </tr>\n",
       "    <tr>\n",
       "      <th>7</th>\n",
       "      <td>daneen</td>\n",
       "      <td>22.5</td>\n",
       "      <td>34.0</td>\n",
       "    </tr>\n",
       "    <tr>\n",
       "      <th>8</th>\n",
       "      <td>zawiyar</td>\n",
       "      <td>34.0</td>\n",
       "      <td>2.0</td>\n",
       "    </tr>\n",
       "    <tr>\n",
       "      <th>9</th>\n",
       "      <td>abdullah</td>\n",
       "      <td>23.0</td>\n",
       "      <td>21.0</td>\n",
       "    </tr>\n",
       "  </tbody>\n",
       "</table>\n",
       "</div>"
      ],
      "text/plain": [
       "       name  marks   age\n",
       "0       Ali   45.0  23.0\n",
       "1     Ahmed  100.0  12.0\n",
       "2    Rameen   34.0  34.0\n",
       "3    Ayesha   23.0   0.0\n",
       "4   Khadija    NaN  42.0\n",
       "5    saleem   78.0   NaN\n",
       "6     rehan   98.0  12.0\n",
       "7    daneen   22.5  34.0\n",
       "8   zawiyar   34.0   2.0\n",
       "9  abdullah   23.0  21.0"
      ]
     },
     "execution_count": 120,
     "metadata": {},
     "output_type": "execute_result"
    }
   ],
   "source": [
    "data"
   ]
  },
  {
   "cell_type": "code",
   "execution_count": 124,
   "id": "42ad1b77-0dff-4fa8-a5d8-625723f81a46",
   "metadata": {},
   "outputs": [
    {
     "data": {
      "text/html": [
       "<div>\n",
       "<style scoped>\n",
       "    .dataframe tbody tr th:only-of-type {\n",
       "        vertical-align: middle;\n",
       "    }\n",
       "\n",
       "    .dataframe tbody tr th {\n",
       "        vertical-align: top;\n",
       "    }\n",
       "\n",
       "    .dataframe thead th {\n",
       "        text-align: right;\n",
       "    }\n",
       "</style>\n",
       "<table border=\"1\" class=\"dataframe\">\n",
       "  <thead>\n",
       "    <tr style=\"text-align: right;\">\n",
       "      <th></th>\n",
       "      <th>name</th>\n",
       "      <th>marks</th>\n",
       "      <th>age</th>\n",
       "    </tr>\n",
       "  </thead>\n",
       "  <tbody>\n",
       "    <tr>\n",
       "      <th>0</th>\n",
       "      <td>Ali</td>\n",
       "      <td>45.0</td>\n",
       "      <td>23.0</td>\n",
       "    </tr>\n",
       "    <tr>\n",
       "      <th>1</th>\n",
       "      <td>Ahmed</td>\n",
       "      <td>100.0</td>\n",
       "      <td>12.0</td>\n",
       "    </tr>\n",
       "    <tr>\n",
       "      <th>2</th>\n",
       "      <td>Rameen</td>\n",
       "      <td>34.0</td>\n",
       "      <td>34.0</td>\n",
       "    </tr>\n",
       "  </tbody>\n",
       "</table>\n",
       "</div>"
      ],
      "text/plain": [
       "     name  marks   age\n",
       "0     Ali   45.0  23.0\n",
       "1   Ahmed  100.0  12.0\n",
       "2  Rameen   34.0  34.0"
      ]
     },
     "execution_count": 124,
     "metadata": {},
     "output_type": "execute_result"
    }
   ],
   "source": [
    "data.head(3)"
   ]
  },
  {
   "cell_type": "code",
   "execution_count": 126,
   "id": "1a3277a2-5e97-4cb8-b66c-b5758c20a758",
   "metadata": {},
   "outputs": [
    {
     "data": {
      "text/html": [
       "<div>\n",
       "<style scoped>\n",
       "    .dataframe tbody tr th:only-of-type {\n",
       "        vertical-align: middle;\n",
       "    }\n",
       "\n",
       "    .dataframe tbody tr th {\n",
       "        vertical-align: top;\n",
       "    }\n",
       "\n",
       "    .dataframe thead th {\n",
       "        text-align: right;\n",
       "    }\n",
       "</style>\n",
       "<table border=\"1\" class=\"dataframe\">\n",
       "  <thead>\n",
       "    <tr style=\"text-align: right;\">\n",
       "      <th></th>\n",
       "      <th>name</th>\n",
       "      <th>marks</th>\n",
       "      <th>age</th>\n",
       "    </tr>\n",
       "  </thead>\n",
       "  <tbody>\n",
       "    <tr>\n",
       "      <th>5</th>\n",
       "      <td>saleem</td>\n",
       "      <td>78.0</td>\n",
       "      <td>NaN</td>\n",
       "    </tr>\n",
       "    <tr>\n",
       "      <th>6</th>\n",
       "      <td>rehan</td>\n",
       "      <td>98.0</td>\n",
       "      <td>12.0</td>\n",
       "    </tr>\n",
       "    <tr>\n",
       "      <th>7</th>\n",
       "      <td>daneen</td>\n",
       "      <td>22.5</td>\n",
       "      <td>34.0</td>\n",
       "    </tr>\n",
       "    <tr>\n",
       "      <th>8</th>\n",
       "      <td>zawiyar</td>\n",
       "      <td>34.0</td>\n",
       "      <td>2.0</td>\n",
       "    </tr>\n",
       "    <tr>\n",
       "      <th>9</th>\n",
       "      <td>abdullah</td>\n",
       "      <td>23.0</td>\n",
       "      <td>21.0</td>\n",
       "    </tr>\n",
       "  </tbody>\n",
       "</table>\n",
       "</div>"
      ],
      "text/plain": [
       "       name  marks   age\n",
       "5    saleem   78.0   NaN\n",
       "6     rehan   98.0  12.0\n",
       "7    daneen   22.5  34.0\n",
       "8   zawiyar   34.0   2.0\n",
       "9  abdullah   23.0  21.0"
      ]
     },
     "execution_count": 126,
     "metadata": {},
     "output_type": "execute_result"
    }
   ],
   "source": [
    "data.tail()"
   ]
  },
  {
   "cell_type": "code",
   "execution_count": 128,
   "id": "430015e5-cbd2-4b14-b5da-01a1c0b3c8e3",
   "metadata": {},
   "outputs": [
    {
     "name": "stdout",
     "output_type": "stream",
     "text": [
      "<class 'pandas.core.frame.DataFrame'>\n",
      "RangeIndex: 10 entries, 0 to 9\n",
      "Data columns (total 3 columns):\n",
      " #   Column  Non-Null Count  Dtype  \n",
      "---  ------  --------------  -----  \n",
      " 0   name    10 non-null     object \n",
      " 1   marks   9 non-null      float64\n",
      " 2   age     9 non-null      float64\n",
      "dtypes: float64(2), object(1)\n",
      "memory usage: 372.0+ bytes\n"
     ]
    }
   ],
   "source": [
    "data.info()"
   ]
  },
  {
   "cell_type": "code",
   "execution_count": 130,
   "id": "fbcc5c0c-6170-491b-8325-697c0b3c338a",
   "metadata": {},
   "outputs": [
    {
     "data": {
      "text/plain": [
       "Index(['name', 'marks', 'age'], dtype='object')"
      ]
     },
     "execution_count": 130,
     "metadata": {},
     "output_type": "execute_result"
    }
   ],
   "source": [
    "data.columns"
   ]
  },
  {
   "cell_type": "code",
   "execution_count": 134,
   "id": "f88bfcbb-62f9-4b3c-b36e-a72383ed463a",
   "metadata": {},
   "outputs": [
    {
     "data": {
      "text/plain": [
       "name      object\n",
       "marks    float64\n",
       "age      float64\n",
       "dtype: object"
      ]
     },
     "execution_count": 134,
     "metadata": {},
     "output_type": "execute_result"
    }
   ],
   "source": [
    "data.dtypes"
   ]
  },
  {
   "cell_type": "code",
   "execution_count": 136,
   "id": "7d882d1d-ec4a-4054-b6ac-51a24e7873f8",
   "metadata": {},
   "outputs": [
    {
     "data": {
      "text/html": [
       "<div>\n",
       "<style scoped>\n",
       "    .dataframe tbody tr th:only-of-type {\n",
       "        vertical-align: middle;\n",
       "    }\n",
       "\n",
       "    .dataframe tbody tr th {\n",
       "        vertical-align: top;\n",
       "    }\n",
       "\n",
       "    .dataframe thead th {\n",
       "        text-align: right;\n",
       "    }\n",
       "</style>\n",
       "<table border=\"1\" class=\"dataframe\">\n",
       "  <thead>\n",
       "    <tr style=\"text-align: right;\">\n",
       "      <th></th>\n",
       "      <th>marks</th>\n",
       "      <th>age</th>\n",
       "    </tr>\n",
       "  </thead>\n",
       "  <tbody>\n",
       "    <tr>\n",
       "      <th>count</th>\n",
       "      <td>9.000000</td>\n",
       "      <td>9.000000</td>\n",
       "    </tr>\n",
       "    <tr>\n",
       "      <th>mean</th>\n",
       "      <td>50.833333</td>\n",
       "      <td>20.000000</td>\n",
       "    </tr>\n",
       "    <tr>\n",
       "      <th>std</th>\n",
       "      <td>32.274216</td>\n",
       "      <td>14.739403</td>\n",
       "    </tr>\n",
       "    <tr>\n",
       "      <th>min</th>\n",
       "      <td>22.500000</td>\n",
       "      <td>0.000000</td>\n",
       "    </tr>\n",
       "    <tr>\n",
       "      <th>25%</th>\n",
       "      <td>23.000000</td>\n",
       "      <td>12.000000</td>\n",
       "    </tr>\n",
       "    <tr>\n",
       "      <th>50%</th>\n",
       "      <td>34.000000</td>\n",
       "      <td>21.000000</td>\n",
       "    </tr>\n",
       "    <tr>\n",
       "      <th>75%</th>\n",
       "      <td>78.000000</td>\n",
       "      <td>34.000000</td>\n",
       "    </tr>\n",
       "    <tr>\n",
       "      <th>max</th>\n",
       "      <td>100.000000</td>\n",
       "      <td>42.000000</td>\n",
       "    </tr>\n",
       "  </tbody>\n",
       "</table>\n",
       "</div>"
      ],
      "text/plain": [
       "            marks        age\n",
       "count    9.000000   9.000000\n",
       "mean    50.833333  20.000000\n",
       "std     32.274216  14.739403\n",
       "min     22.500000   0.000000\n",
       "25%     23.000000  12.000000\n",
       "50%     34.000000  21.000000\n",
       "75%     78.000000  34.000000\n",
       "max    100.000000  42.000000"
      ]
     },
     "execution_count": 136,
     "metadata": {},
     "output_type": "execute_result"
    }
   ],
   "source": [
    "data.describe()"
   ]
  },
  {
   "cell_type": "code",
   "execution_count": 140,
   "id": "c1f79252-0d4a-4cad-a7ee-3ee641b3194d",
   "metadata": {},
   "outputs": [
    {
     "data": {
      "text/html": [
       "<div>\n",
       "<style scoped>\n",
       "    .dataframe tbody tr th:only-of-type {\n",
       "        vertical-align: middle;\n",
       "    }\n",
       "\n",
       "    .dataframe tbody tr th {\n",
       "        vertical-align: top;\n",
       "    }\n",
       "\n",
       "    .dataframe thead th {\n",
       "        text-align: right;\n",
       "    }\n",
       "</style>\n",
       "<table border=\"1\" class=\"dataframe\">\n",
       "  <thead>\n",
       "    <tr style=\"text-align: right;\">\n",
       "      <th></th>\n",
       "      <th>name</th>\n",
       "      <th>marks</th>\n",
       "      <th>age</th>\n",
       "    </tr>\n",
       "  </thead>\n",
       "  <tbody>\n",
       "    <tr>\n",
       "      <th>0</th>\n",
       "      <td>False</td>\n",
       "      <td>False</td>\n",
       "      <td>False</td>\n",
       "    </tr>\n",
       "    <tr>\n",
       "      <th>1</th>\n",
       "      <td>False</td>\n",
       "      <td>False</td>\n",
       "      <td>False</td>\n",
       "    </tr>\n",
       "    <tr>\n",
       "      <th>2</th>\n",
       "      <td>False</td>\n",
       "      <td>False</td>\n",
       "      <td>False</td>\n",
       "    </tr>\n",
       "    <tr>\n",
       "      <th>3</th>\n",
       "      <td>False</td>\n",
       "      <td>False</td>\n",
       "      <td>False</td>\n",
       "    </tr>\n",
       "    <tr>\n",
       "      <th>4</th>\n",
       "      <td>False</td>\n",
       "      <td>True</td>\n",
       "      <td>False</td>\n",
       "    </tr>\n",
       "    <tr>\n",
       "      <th>5</th>\n",
       "      <td>False</td>\n",
       "      <td>False</td>\n",
       "      <td>True</td>\n",
       "    </tr>\n",
       "    <tr>\n",
       "      <th>6</th>\n",
       "      <td>False</td>\n",
       "      <td>False</td>\n",
       "      <td>False</td>\n",
       "    </tr>\n",
       "    <tr>\n",
       "      <th>7</th>\n",
       "      <td>False</td>\n",
       "      <td>False</td>\n",
       "      <td>False</td>\n",
       "    </tr>\n",
       "    <tr>\n",
       "      <th>8</th>\n",
       "      <td>False</td>\n",
       "      <td>False</td>\n",
       "      <td>False</td>\n",
       "    </tr>\n",
       "    <tr>\n",
       "      <th>9</th>\n",
       "      <td>False</td>\n",
       "      <td>False</td>\n",
       "      <td>False</td>\n",
       "    </tr>\n",
       "  </tbody>\n",
       "</table>\n",
       "</div>"
      ],
      "text/plain": [
       "    name  marks    age\n",
       "0  False  False  False\n",
       "1  False  False  False\n",
       "2  False  False  False\n",
       "3  False  False  False\n",
       "4  False   True  False\n",
       "5  False  False   True\n",
       "6  False  False  False\n",
       "7  False  False  False\n",
       "8  False  False  False\n",
       "9  False  False  False"
      ]
     },
     "execution_count": 140,
     "metadata": {},
     "output_type": "execute_result"
    }
   ],
   "source": [
    "data.isnull()"
   ]
  },
  {
   "cell_type": "code",
   "execution_count": 142,
   "id": "8275ae5d-eeae-47b0-8ce7-d8f5968f323a",
   "metadata": {},
   "outputs": [],
   "source": [
    "#data.fillna(0)\n"
   ]
  },
  {
   "cell_type": "code",
   "execution_count": 144,
   "id": "299f57e9-b6ae-463f-9a25-fbb837d454d5",
   "metadata": {},
   "outputs": [],
   "source": [
    "#data=data.dropna()\n",
    "data.dropna(inplace=True)"
   ]
  },
  {
   "cell_type": "code",
   "execution_count": 146,
   "id": "b2b29ddd-f504-419e-b4a2-8876ee5ecb3b",
   "metadata": {},
   "outputs": [
    {
     "data": {
      "text/html": [
       "<div>\n",
       "<style scoped>\n",
       "    .dataframe tbody tr th:only-of-type {\n",
       "        vertical-align: middle;\n",
       "    }\n",
       "\n",
       "    .dataframe tbody tr th {\n",
       "        vertical-align: top;\n",
       "    }\n",
       "\n",
       "    .dataframe thead th {\n",
       "        text-align: right;\n",
       "    }\n",
       "</style>\n",
       "<table border=\"1\" class=\"dataframe\">\n",
       "  <thead>\n",
       "    <tr style=\"text-align: right;\">\n",
       "      <th></th>\n",
       "      <th>name</th>\n",
       "      <th>marks</th>\n",
       "      <th>age</th>\n",
       "    </tr>\n",
       "  </thead>\n",
       "  <tbody>\n",
       "    <tr>\n",
       "      <th>0</th>\n",
       "      <td>Ali</td>\n",
       "      <td>45.0</td>\n",
       "      <td>23.0</td>\n",
       "    </tr>\n",
       "    <tr>\n",
       "      <th>1</th>\n",
       "      <td>Ahmed</td>\n",
       "      <td>100.0</td>\n",
       "      <td>12.0</td>\n",
       "    </tr>\n",
       "    <tr>\n",
       "      <th>2</th>\n",
       "      <td>Rameen</td>\n",
       "      <td>34.0</td>\n",
       "      <td>34.0</td>\n",
       "    </tr>\n",
       "    <tr>\n",
       "      <th>3</th>\n",
       "      <td>Ayesha</td>\n",
       "      <td>23.0</td>\n",
       "      <td>0.0</td>\n",
       "    </tr>\n",
       "    <tr>\n",
       "      <th>6</th>\n",
       "      <td>rehan</td>\n",
       "      <td>98.0</td>\n",
       "      <td>12.0</td>\n",
       "    </tr>\n",
       "    <tr>\n",
       "      <th>7</th>\n",
       "      <td>daneen</td>\n",
       "      <td>22.5</td>\n",
       "      <td>34.0</td>\n",
       "    </tr>\n",
       "    <tr>\n",
       "      <th>8</th>\n",
       "      <td>zawiyar</td>\n",
       "      <td>34.0</td>\n",
       "      <td>2.0</td>\n",
       "    </tr>\n",
       "    <tr>\n",
       "      <th>9</th>\n",
       "      <td>abdullah</td>\n",
       "      <td>23.0</td>\n",
       "      <td>21.0</td>\n",
       "    </tr>\n",
       "  </tbody>\n",
       "</table>\n",
       "</div>"
      ],
      "text/plain": [
       "       name  marks   age\n",
       "0       Ali   45.0  23.0\n",
       "1     Ahmed  100.0  12.0\n",
       "2    Rameen   34.0  34.0\n",
       "3    Ayesha   23.0   0.0\n",
       "6     rehan   98.0  12.0\n",
       "7    daneen   22.5  34.0\n",
       "8   zawiyar   34.0   2.0\n",
       "9  abdullah   23.0  21.0"
      ]
     },
     "execution_count": 146,
     "metadata": {},
     "output_type": "execute_result"
    }
   ],
   "source": [
    "data"
   ]
  },
  {
   "cell_type": "code",
   "execution_count": 148,
   "id": "a5320e66-ee33-466b-932d-6430fac5c6c7",
   "metadata": {},
   "outputs": [
    {
     "data": {
      "text/plain": [
       "0         Ali\n",
       "1       Ahmed\n",
       "2      Rameen\n",
       "3      Ayesha\n",
       "6       rehan\n",
       "7      daneen\n",
       "8     zawiyar\n",
       "9    abdullah\n",
       "Name: name, dtype: object"
      ]
     },
     "execution_count": 148,
     "metadata": {},
     "output_type": "execute_result"
    }
   ],
   "source": [
    "data[\"name\"]"
   ]
  },
  {
   "cell_type": "code",
   "execution_count": 150,
   "id": "6d072d13-ef2e-4f96-a59c-5d4f66b842d0",
   "metadata": {},
   "outputs": [
    {
     "name": "stdout",
     "output_type": "stream",
     "text": [
      "Ali\n",
      "Ahmed\n",
      "Rameen\n",
      "Ayesha\n",
      "rehan\n",
      "daneen\n",
      "zawiyar\n",
      "abdullah\n"
     ]
    }
   ],
   "source": [
    "for i in data[\"name\"]:\n",
    "    print(i)"
   ]
  },
  {
   "cell_type": "code",
   "execution_count": 154,
   "id": "010f124f-ea13-42b8-ba48-8c1c61a3ffe0",
   "metadata": {},
   "outputs": [
    {
     "data": {
      "text/plain": [
       "0"
      ]
     },
     "execution_count": 154,
     "metadata": {},
     "output_type": "execute_result"
    }
   ],
   "source": [
    "int(4==3)"
   ]
  },
  {
   "cell_type": "code",
   "execution_count": 156,
   "id": "84748a3a-63ec-4349-bca1-6021bb729842",
   "metadata": {},
   "outputs": [
    {
     "data": {
      "text/plain": [
       "array([  1.        ,   1.0990991 ,   1.1981982 ,   1.2972973 ,\n",
       "         1.3963964 ,   1.4954955 ,   1.59459459,   1.69369369,\n",
       "         1.79279279,   1.89189189,   1.99099099,   2.09009009,\n",
       "         2.18918919,   2.28828829,   2.38738739,   2.48648649,\n",
       "         2.58558559,   2.68468468,   2.78378378,   2.88288288,\n",
       "         2.98198198,   3.08108108,   3.18018018,   3.27927928,\n",
       "         3.37837838,   3.47747748,   3.57657658,   3.67567568,\n",
       "         3.77477477,   3.87387387,   3.97297297,   4.07207207,\n",
       "         4.17117117,   4.27027027,   4.36936937,   4.46846847,\n",
       "         4.56756757,   4.66666667,   4.76576577,   4.86486486,\n",
       "         4.96396396,   5.06306306,   5.16216216,   5.26126126,\n",
       "         5.36036036,   5.45945946,   5.55855856,   5.65765766,\n",
       "         5.75675676,   5.85585586,   5.95495495,   6.05405405,\n",
       "         6.15315315,   6.25225225,   6.35135135,   6.45045045,\n",
       "         6.54954955,   6.64864865,   6.74774775,   6.84684685,\n",
       "         6.94594595,   7.04504505,   7.14414414,   7.24324324,\n",
       "         7.34234234,   7.44144144,   7.54054054,   7.63963964,\n",
       "         7.73873874,   7.83783784,   7.93693694,   8.03603604,\n",
       "         8.13513514,   8.23423423,   8.33333333,   8.43243243,\n",
       "         8.53153153,   8.63063063,   8.72972973,   8.82882883,\n",
       "         8.92792793,   9.02702703,   9.12612613,   9.22522523,\n",
       "         9.32432432,   9.42342342,   9.52252252,   9.62162162,\n",
       "         9.72072072,   9.81981982,   9.91891892,  10.01801802,\n",
       "        10.11711712,  10.21621622,  10.31531532,  10.41441441,\n",
       "        10.51351351,  10.61261261,  10.71171171,  10.81081081,\n",
       "        10.90990991,  11.00900901,  11.10810811,  11.20720721,\n",
       "        11.30630631,  11.40540541,  11.5045045 ,  11.6036036 ,\n",
       "        11.7027027 ,  11.8018018 ,  11.9009009 ,  12.        ,\n",
       "        12.0990991 ,  12.1981982 ,  12.2972973 ,  12.3963964 ,\n",
       "        12.4954955 ,  12.59459459,  12.69369369,  12.79279279,\n",
       "        12.89189189,  12.99099099,  13.09009009,  13.18918919,\n",
       "        13.28828829,  13.38738739,  13.48648649,  13.58558559,\n",
       "        13.68468468,  13.78378378,  13.88288288,  13.98198198,\n",
       "        14.08108108,  14.18018018,  14.27927928,  14.37837838,\n",
       "        14.47747748,  14.57657658,  14.67567568,  14.77477477,\n",
       "        14.87387387,  14.97297297,  15.07207207,  15.17117117,\n",
       "        15.27027027,  15.36936937,  15.46846847,  15.56756757,\n",
       "        15.66666667,  15.76576577,  15.86486486,  15.96396396,\n",
       "        16.06306306,  16.16216216,  16.26126126,  16.36036036,\n",
       "        16.45945946,  16.55855856,  16.65765766,  16.75675676,\n",
       "        16.85585586,  16.95495495,  17.05405405,  17.15315315,\n",
       "        17.25225225,  17.35135135,  17.45045045,  17.54954955,\n",
       "        17.64864865,  17.74774775,  17.84684685,  17.94594595,\n",
       "        18.04504505,  18.14414414,  18.24324324,  18.34234234,\n",
       "        18.44144144,  18.54054054,  18.63963964,  18.73873874,\n",
       "        18.83783784,  18.93693694,  19.03603604,  19.13513514,\n",
       "        19.23423423,  19.33333333,  19.43243243,  19.53153153,\n",
       "        19.63063063,  19.72972973,  19.82882883,  19.92792793,\n",
       "        20.02702703,  20.12612613,  20.22522523,  20.32432432,\n",
       "        20.42342342,  20.52252252,  20.62162162,  20.72072072,\n",
       "        20.81981982,  20.91891892,  21.01801802,  21.11711712,\n",
       "        21.21621622,  21.31531532,  21.41441441,  21.51351351,\n",
       "        21.61261261,  21.71171171,  21.81081081,  21.90990991,\n",
       "        22.00900901,  22.10810811,  22.20720721,  22.30630631,\n",
       "        22.40540541,  22.5045045 ,  22.6036036 ,  22.7027027 ,\n",
       "        22.8018018 ,  22.9009009 ,  23.        ,  23.0990991 ,\n",
       "        23.1981982 ,  23.2972973 ,  23.3963964 ,  23.4954955 ,\n",
       "        23.59459459,  23.69369369,  23.79279279,  23.89189189,\n",
       "        23.99099099,  24.09009009,  24.18918919,  24.28828829,\n",
       "        24.38738739,  24.48648649,  24.58558559,  24.68468468,\n",
       "        24.78378378,  24.88288288,  24.98198198,  25.08108108,\n",
       "        25.18018018,  25.27927928,  25.37837838,  25.47747748,\n",
       "        25.57657658,  25.67567568,  25.77477477,  25.87387387,\n",
       "        25.97297297,  26.07207207,  26.17117117,  26.27027027,\n",
       "        26.36936937,  26.46846847,  26.56756757,  26.66666667,\n",
       "        26.76576577,  26.86486486,  26.96396396,  27.06306306,\n",
       "        27.16216216,  27.26126126,  27.36036036,  27.45945946,\n",
       "        27.55855856,  27.65765766,  27.75675676,  27.85585586,\n",
       "        27.95495495,  28.05405405,  28.15315315,  28.25225225,\n",
       "        28.35135135,  28.45045045,  28.54954955,  28.64864865,\n",
       "        28.74774775,  28.84684685,  28.94594595,  29.04504505,\n",
       "        29.14414414,  29.24324324,  29.34234234,  29.44144144,\n",
       "        29.54054054,  29.63963964,  29.73873874,  29.83783784,\n",
       "        29.93693694,  30.03603604,  30.13513514,  30.23423423,\n",
       "        30.33333333,  30.43243243,  30.53153153,  30.63063063,\n",
       "        30.72972973,  30.82882883,  30.92792793,  31.02702703,\n",
       "        31.12612613,  31.22522523,  31.32432432,  31.42342342,\n",
       "        31.52252252,  31.62162162,  31.72072072,  31.81981982,\n",
       "        31.91891892,  32.01801802,  32.11711712,  32.21621622,\n",
       "        32.31531532,  32.41441441,  32.51351351,  32.61261261,\n",
       "        32.71171171,  32.81081081,  32.90990991,  33.00900901,\n",
       "        33.10810811,  33.20720721,  33.30630631,  33.40540541,\n",
       "        33.5045045 ,  33.6036036 ,  33.7027027 ,  33.8018018 ,\n",
       "        33.9009009 ,  34.        ,  34.0990991 ,  34.1981982 ,\n",
       "        34.2972973 ,  34.3963964 ,  34.4954955 ,  34.59459459,\n",
       "        34.69369369,  34.79279279,  34.89189189,  34.99099099,\n",
       "        35.09009009,  35.18918919,  35.28828829,  35.38738739,\n",
       "        35.48648649,  35.58558559,  35.68468468,  35.78378378,\n",
       "        35.88288288,  35.98198198,  36.08108108,  36.18018018,\n",
       "        36.27927928,  36.37837838,  36.47747748,  36.57657658,\n",
       "        36.67567568,  36.77477477,  36.87387387,  36.97297297,\n",
       "        37.07207207,  37.17117117,  37.27027027,  37.36936937,\n",
       "        37.46846847,  37.56756757,  37.66666667,  37.76576577,\n",
       "        37.86486486,  37.96396396,  38.06306306,  38.16216216,\n",
       "        38.26126126,  38.36036036,  38.45945946,  38.55855856,\n",
       "        38.65765766,  38.75675676,  38.85585586,  38.95495495,\n",
       "        39.05405405,  39.15315315,  39.25225225,  39.35135135,\n",
       "        39.45045045,  39.54954955,  39.64864865,  39.74774775,\n",
       "        39.84684685,  39.94594595,  40.04504505,  40.14414414,\n",
       "        40.24324324,  40.34234234,  40.44144144,  40.54054054,\n",
       "        40.63963964,  40.73873874,  40.83783784,  40.93693694,\n",
       "        41.03603604,  41.13513514,  41.23423423,  41.33333333,\n",
       "        41.43243243,  41.53153153,  41.63063063,  41.72972973,\n",
       "        41.82882883,  41.92792793,  42.02702703,  42.12612613,\n",
       "        42.22522523,  42.32432432,  42.42342342,  42.52252252,\n",
       "        42.62162162,  42.72072072,  42.81981982,  42.91891892,\n",
       "        43.01801802,  43.11711712,  43.21621622,  43.31531532,\n",
       "        43.41441441,  43.51351351,  43.61261261,  43.71171171,\n",
       "        43.81081081,  43.90990991,  44.00900901,  44.10810811,\n",
       "        44.20720721,  44.30630631,  44.40540541,  44.5045045 ,\n",
       "        44.6036036 ,  44.7027027 ,  44.8018018 ,  44.9009009 ,\n",
       "        45.        ,  45.0990991 ,  45.1981982 ,  45.2972973 ,\n",
       "        45.3963964 ,  45.4954955 ,  45.59459459,  45.69369369,\n",
       "        45.79279279,  45.89189189,  45.99099099,  46.09009009,\n",
       "        46.18918919,  46.28828829,  46.38738739,  46.48648649,\n",
       "        46.58558559,  46.68468468,  46.78378378,  46.88288288,\n",
       "        46.98198198,  47.08108108,  47.18018018,  47.27927928,\n",
       "        47.37837838,  47.47747748,  47.57657658,  47.67567568,\n",
       "        47.77477477,  47.87387387,  47.97297297,  48.07207207,\n",
       "        48.17117117,  48.27027027,  48.36936937,  48.46846847,\n",
       "        48.56756757,  48.66666667,  48.76576577,  48.86486486,\n",
       "        48.96396396,  49.06306306,  49.16216216,  49.26126126,\n",
       "        49.36036036,  49.45945946,  49.55855856,  49.65765766,\n",
       "        49.75675676,  49.85585586,  49.95495495,  50.05405405,\n",
       "        50.15315315,  50.25225225,  50.35135135,  50.45045045,\n",
       "        50.54954955,  50.64864865,  50.74774775,  50.84684685,\n",
       "        50.94594595,  51.04504505,  51.14414414,  51.24324324,\n",
       "        51.34234234,  51.44144144,  51.54054054,  51.63963964,\n",
       "        51.73873874,  51.83783784,  51.93693694,  52.03603604,\n",
       "        52.13513514,  52.23423423,  52.33333333,  52.43243243,\n",
       "        52.53153153,  52.63063063,  52.72972973,  52.82882883,\n",
       "        52.92792793,  53.02702703,  53.12612613,  53.22522523,\n",
       "        53.32432432,  53.42342342,  53.52252252,  53.62162162,\n",
       "        53.72072072,  53.81981982,  53.91891892,  54.01801802,\n",
       "        54.11711712,  54.21621622,  54.31531532,  54.41441441,\n",
       "        54.51351351,  54.61261261,  54.71171171,  54.81081081,\n",
       "        54.90990991,  55.00900901,  55.10810811,  55.20720721,\n",
       "        55.30630631,  55.40540541,  55.5045045 ,  55.6036036 ,\n",
       "        55.7027027 ,  55.8018018 ,  55.9009009 ,  56.        ,\n",
       "        56.0990991 ,  56.1981982 ,  56.2972973 ,  56.3963964 ,\n",
       "        56.4954955 ,  56.59459459,  56.69369369,  56.79279279,\n",
       "        56.89189189,  56.99099099,  57.09009009,  57.18918919,\n",
       "        57.28828829,  57.38738739,  57.48648649,  57.58558559,\n",
       "        57.68468468,  57.78378378,  57.88288288,  57.98198198,\n",
       "        58.08108108,  58.18018018,  58.27927928,  58.37837838,\n",
       "        58.47747748,  58.57657658,  58.67567568,  58.77477477,\n",
       "        58.87387387,  58.97297297,  59.07207207,  59.17117117,\n",
       "        59.27027027,  59.36936937,  59.46846847,  59.56756757,\n",
       "        59.66666667,  59.76576577,  59.86486486,  59.96396396,\n",
       "        60.06306306,  60.16216216,  60.26126126,  60.36036036,\n",
       "        60.45945946,  60.55855856,  60.65765766,  60.75675676,\n",
       "        60.85585586,  60.95495495,  61.05405405,  61.15315315,\n",
       "        61.25225225,  61.35135135,  61.45045045,  61.54954955,\n",
       "        61.64864865,  61.74774775,  61.84684685,  61.94594595,\n",
       "        62.04504505,  62.14414414,  62.24324324,  62.34234234,\n",
       "        62.44144144,  62.54054054,  62.63963964,  62.73873874,\n",
       "        62.83783784,  62.93693694,  63.03603604,  63.13513514,\n",
       "        63.23423423,  63.33333333,  63.43243243,  63.53153153,\n",
       "        63.63063063,  63.72972973,  63.82882883,  63.92792793,\n",
       "        64.02702703,  64.12612613,  64.22522523,  64.32432432,\n",
       "        64.42342342,  64.52252252,  64.62162162,  64.72072072,\n",
       "        64.81981982,  64.91891892,  65.01801802,  65.11711712,\n",
       "        65.21621622,  65.31531532,  65.41441441,  65.51351351,\n",
       "        65.61261261,  65.71171171,  65.81081081,  65.90990991,\n",
       "        66.00900901,  66.10810811,  66.20720721,  66.30630631,\n",
       "        66.40540541,  66.5045045 ,  66.6036036 ,  66.7027027 ,\n",
       "        66.8018018 ,  66.9009009 ,  67.        ,  67.0990991 ,\n",
       "        67.1981982 ,  67.2972973 ,  67.3963964 ,  67.4954955 ,\n",
       "        67.59459459,  67.69369369,  67.79279279,  67.89189189,\n",
       "        67.99099099,  68.09009009,  68.18918919,  68.28828829,\n",
       "        68.38738739,  68.48648649,  68.58558559,  68.68468468,\n",
       "        68.78378378,  68.88288288,  68.98198198,  69.08108108,\n",
       "        69.18018018,  69.27927928,  69.37837838,  69.47747748,\n",
       "        69.57657658,  69.67567568,  69.77477477,  69.87387387,\n",
       "        69.97297297,  70.07207207,  70.17117117,  70.27027027,\n",
       "        70.36936937,  70.46846847,  70.56756757,  70.66666667,\n",
       "        70.76576577,  70.86486486,  70.96396396,  71.06306306,\n",
       "        71.16216216,  71.26126126,  71.36036036,  71.45945946,\n",
       "        71.55855856,  71.65765766,  71.75675676,  71.85585586,\n",
       "        71.95495495,  72.05405405,  72.15315315,  72.25225225,\n",
       "        72.35135135,  72.45045045,  72.54954955,  72.64864865,\n",
       "        72.74774775,  72.84684685,  72.94594595,  73.04504505,\n",
       "        73.14414414,  73.24324324,  73.34234234,  73.44144144,\n",
       "        73.54054054,  73.63963964,  73.73873874,  73.83783784,\n",
       "        73.93693694,  74.03603604,  74.13513514,  74.23423423,\n",
       "        74.33333333,  74.43243243,  74.53153153,  74.63063063,\n",
       "        74.72972973,  74.82882883,  74.92792793,  75.02702703,\n",
       "        75.12612613,  75.22522523,  75.32432432,  75.42342342,\n",
       "        75.52252252,  75.62162162,  75.72072072,  75.81981982,\n",
       "        75.91891892,  76.01801802,  76.11711712,  76.21621622,\n",
       "        76.31531532,  76.41441441,  76.51351351,  76.61261261,\n",
       "        76.71171171,  76.81081081,  76.90990991,  77.00900901,\n",
       "        77.10810811,  77.20720721,  77.30630631,  77.40540541,\n",
       "        77.5045045 ,  77.6036036 ,  77.7027027 ,  77.8018018 ,\n",
       "        77.9009009 ,  78.        ,  78.0990991 ,  78.1981982 ,\n",
       "        78.2972973 ,  78.3963964 ,  78.4954955 ,  78.59459459,\n",
       "        78.69369369,  78.79279279,  78.89189189,  78.99099099,\n",
       "        79.09009009,  79.18918919,  79.28828829,  79.38738739,\n",
       "        79.48648649,  79.58558559,  79.68468468,  79.78378378,\n",
       "        79.88288288,  79.98198198,  80.08108108,  80.18018018,\n",
       "        80.27927928,  80.37837838,  80.47747748,  80.57657658,\n",
       "        80.67567568,  80.77477477,  80.87387387,  80.97297297,\n",
       "        81.07207207,  81.17117117,  81.27027027,  81.36936937,\n",
       "        81.46846847,  81.56756757,  81.66666667,  81.76576577,\n",
       "        81.86486486,  81.96396396,  82.06306306,  82.16216216,\n",
       "        82.26126126,  82.36036036,  82.45945946,  82.55855856,\n",
       "        82.65765766,  82.75675676,  82.85585586,  82.95495495,\n",
       "        83.05405405,  83.15315315,  83.25225225,  83.35135135,\n",
       "        83.45045045,  83.54954955,  83.64864865,  83.74774775,\n",
       "        83.84684685,  83.94594595,  84.04504505,  84.14414414,\n",
       "        84.24324324,  84.34234234,  84.44144144,  84.54054054,\n",
       "        84.63963964,  84.73873874,  84.83783784,  84.93693694,\n",
       "        85.03603604,  85.13513514,  85.23423423,  85.33333333,\n",
       "        85.43243243,  85.53153153,  85.63063063,  85.72972973,\n",
       "        85.82882883,  85.92792793,  86.02702703,  86.12612613,\n",
       "        86.22522523,  86.32432432,  86.42342342,  86.52252252,\n",
       "        86.62162162,  86.72072072,  86.81981982,  86.91891892,\n",
       "        87.01801802,  87.11711712,  87.21621622,  87.31531532,\n",
       "        87.41441441,  87.51351351,  87.61261261,  87.71171171,\n",
       "        87.81081081,  87.90990991,  88.00900901,  88.10810811,\n",
       "        88.20720721,  88.30630631,  88.40540541,  88.5045045 ,\n",
       "        88.6036036 ,  88.7027027 ,  88.8018018 ,  88.9009009 ,\n",
       "        89.        ,  89.0990991 ,  89.1981982 ,  89.2972973 ,\n",
       "        89.3963964 ,  89.4954955 ,  89.59459459,  89.69369369,\n",
       "        89.79279279,  89.89189189,  89.99099099,  90.09009009,\n",
       "        90.18918919,  90.28828829,  90.38738739,  90.48648649,\n",
       "        90.58558559,  90.68468468,  90.78378378,  90.88288288,\n",
       "        90.98198198,  91.08108108,  91.18018018,  91.27927928,\n",
       "        91.37837838,  91.47747748,  91.57657658,  91.67567568,\n",
       "        91.77477477,  91.87387387,  91.97297297,  92.07207207,\n",
       "        92.17117117,  92.27027027,  92.36936937,  92.46846847,\n",
       "        92.56756757,  92.66666667,  92.76576577,  92.86486486,\n",
       "        92.96396396,  93.06306306,  93.16216216,  93.26126126,\n",
       "        93.36036036,  93.45945946,  93.55855856,  93.65765766,\n",
       "        93.75675676,  93.85585586,  93.95495495,  94.05405405,\n",
       "        94.15315315,  94.25225225,  94.35135135,  94.45045045,\n",
       "        94.54954955,  94.64864865,  94.74774775,  94.84684685,\n",
       "        94.94594595,  95.04504505,  95.14414414,  95.24324324,\n",
       "        95.34234234,  95.44144144,  95.54054054,  95.63963964,\n",
       "        95.73873874,  95.83783784,  95.93693694,  96.03603604,\n",
       "        96.13513514,  96.23423423,  96.33333333,  96.43243243,\n",
       "        96.53153153,  96.63063063,  96.72972973,  96.82882883,\n",
       "        96.92792793,  97.02702703,  97.12612613,  97.22522523,\n",
       "        97.32432432,  97.42342342,  97.52252252,  97.62162162,\n",
       "        97.72072072,  97.81981982,  97.91891892,  98.01801802,\n",
       "        98.11711712,  98.21621622,  98.31531532,  98.41441441,\n",
       "        98.51351351,  98.61261261,  98.71171171,  98.81081081,\n",
       "        98.90990991,  99.00900901,  99.10810811,  99.20720721,\n",
       "        99.30630631,  99.40540541,  99.5045045 ,  99.6036036 ,\n",
       "        99.7027027 ,  99.8018018 ,  99.9009009 , 100.        ])"
      ]
     },
     "execution_count": 156,
     "metadata": {},
     "output_type": "execute_result"
    }
   ],
   "source": [
    "np.linspace(1,100, 1000)"
   ]
  },
  {
   "cell_type": "code",
   "execution_count": 158,
   "id": "e2386c21-a38f-4131-b6c2-6b1a78f81693",
   "metadata": {},
   "outputs": [],
   "source": [
    "df=pd.read_excel(\"test.xlsx\")"
   ]
  },
  {
   "cell_type": "code",
   "execution_count": null,
   "id": "c8e6b99b-80ce-4e14-aa0e-d2763d705557",
   "metadata": {},
   "outputs": [],
   "source": []
  }
 ],
 "metadata": {
  "kernelspec": {
   "display_name": "Python 3 (ipykernel)",
   "language": "python",
   "name": "python3"
  },
  "language_info": {
   "codemirror_mode": {
    "name": "ipython",
    "version": 3
   },
   "file_extension": ".py",
   "mimetype": "text/x-python",
   "name": "python",
   "nbconvert_exporter": "python",
   "pygments_lexer": "ipython3",
   "version": "3.12.4"
  }
 },
 "nbformat": 4,
 "nbformat_minor": 5
}
