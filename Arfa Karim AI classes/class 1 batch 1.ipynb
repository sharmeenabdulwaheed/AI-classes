{
 "cells": [
  {
   "cell_type": "code",
   "execution_count": 1,
   "id": "4989ac45-19d3-42f9-8556-e233fe3bc214",
   "metadata": {},
   "outputs": [
    {
     "name": "stdout",
     "output_type": "stream",
     "text": [
      "Hello world!\n"
     ]
    }
   ],
   "source": [
    "print (\"Hello world!\")"
   ]
  },
  {
   "cell_type": "code",
   "execution_count": 2,
   "id": "72070916-9ed9-4ece-bfc3-0a33e5d7f594",
   "metadata": {},
   "outputs": [
    {
     "data": {
      "text/plain": [
       "16"
      ]
     },
     "execution_count": 2,
     "metadata": {},
     "output_type": "execute_result"
    }
   ],
   "source": [
    "7+9"
   ]
  },
  {
   "cell_type": "code",
   "execution_count": 3,
   "id": "705f992c-8615-4cc5-be47-961617f820c4",
   "metadata": {},
   "outputs": [
    {
     "name": "stdout",
     "output_type": "stream",
     "text": [
      "16\n"
     ]
    }
   ],
   "source": [
    "print(7+9)"
   ]
  },
  {
   "cell_type": "code",
   "execution_count": 5,
   "id": "869f198c-1451-4676-bafb-1a33e30dab67",
   "metadata": {},
   "outputs": [
    {
     "name": "stdout",
     "output_type": "stream",
     "text": [
      "my name is sharmeen\n"
     ]
    }
   ],
   "source": [
    "print(\"my name is \"+ \"sharmeen\")"
   ]
  },
  {
   "cell_type": "code",
   "execution_count": 11,
   "id": "206d8b56-c743-46fe-89dc-d66533bc5d35",
   "metadata": {},
   "outputs": [],
   "source": [
    "name = \"saad\"\n",
    "age= 18"
   ]
  },
  {
   "cell_type": "code",
   "execution_count": 14,
   "id": "ec3b4067-5609-4496-8721-8919277955a9",
   "metadata": {},
   "outputs": [
    {
     "name": "stdout",
     "output_type": "stream",
     "text": [
      "saad is 18 years old\n"
     ]
    }
   ],
   "source": [
    "print(name + \" is \"+ str(age) +\" years old\")"
   ]
  },
  {
   "cell_type": "code",
   "execution_count": 15,
   "id": "2acd90d2-7365-4680-bed4-76fc7994c015",
   "metadata": {},
   "outputs": [
    {
     "name": "stdin",
     "output_type": "stream",
     "text": [
      "What is your name?  muhammad ali\n"
     ]
    }
   ],
   "source": [
    "name= input(\"What is your name? \")"
   ]
  },
  {
   "cell_type": "code",
   "execution_count": 16,
   "id": "b9eec5b9-7874-407f-a91b-35d3e7833771",
   "metadata": {},
   "outputs": [
    {
     "data": {
      "text/plain": [
       "'muhammad ali'"
      ]
     },
     "execution_count": 16,
     "metadata": {},
     "output_type": "execute_result"
    }
   ],
   "source": [
    "name\n"
   ]
  },
  {
   "cell_type": "code",
   "execution_count": 23,
   "id": "446b4e65-557a-47fb-9797-5d131dec8b6d",
   "metadata": {},
   "outputs": [
    {
     "name": "stdin",
     "output_type": "stream",
     "text": [
      "Enter 1st number:  4\n",
      "Enter 2nd number:  5\n",
      "Enter 3nd number:  5\n"
     ]
    },
    {
     "name": "stdout",
     "output_type": "stream",
     "text": [
      "The sum of  4  and  5  and  5  is  14\n"
     ]
    }
   ],
   "source": [
    "num1=int( input(\"Enter 1st number: \"))\n",
    "num2= int(input(\"Enter 2nd number: \"))\n",
    "num3=int(input(\"Enter 3nd number: \"))\n",
    "\n",
    "sum= num1+num2+num3\n",
    "print (\"The sum of \", num1, \" and \",num2,\" and \",num3,\" is \",sum)\n"
   ]
  },
  {
   "cell_type": "code",
   "execution_count": null,
   "id": "80ec5c5e-fc17-4d1a-9fef-0758c2b4c632",
   "metadata": {},
   "outputs": [],
   "source": [
    "marks=input(\"Enter your marks \")\n",
    "int(marks)\n",
    "if(marks>\"50\"):\n",
    "    print(\"You are pass\")\n",
    "if(marks<\"45\"):\n",
    "    print(\"You are fail\")\n",
    "\n"
   ]
  },
  {
   "cell_type": "code",
   "execution_count": null,
   "id": "d5f05a3a-dec8-4d5a-85e8-665447bb6df0",
   "metadata": {},
   "outputs": [],
   "source": []
  }
 ],
 "metadata": {
  "kernelspec": {
   "display_name": "Python 3 (ipykernel)",
   "language": "python",
   "name": "python3"
  },
  "language_info": {
   "codemirror_mode": {
    "name": "ipython",
    "version": 3
   },
   "file_extension": ".py",
   "mimetype": "text/x-python",
   "name": "python",
   "nbconvert_exporter": "python",
   "pygments_lexer": "ipython3",
   "version": "3.12.4"
  }
 },
 "nbformat": 4,
 "nbformat_minor": 5
}
